{
 "cells": [
  {
   "cell_type": "markdown",
   "metadata": {},
   "source": [
    "        Data Science: A Programming Approach\n",
    "        Mahyar S Vaghefi\n",
    "        University of Texas Arlington\n",
    "        \n",
    "        This document can only be used for class studies. \n",
    "        You are not allowed to share it in any public platform."
   ]
  },
  {
   "cell_type": "markdown",
   "metadata": {},
   "source": [
    "<h1 align='center' style=\"color: blue;\">Group Project - Fall 2021</h1>"
   ]
  },
  {
   "cell_type": "markdown",
   "metadata": {},
   "source": [
    "You need to work as a team for this project. Your job is to develop a predictive model that can predict whether or not a movie is a <i>Comedy</i>. In order to do so you need to use the textual features of the movie stories and creat your predictive models. There are totally three different files in this project.\n",
    "\n",
    "<ol>\n",
    "    <li><b>movie_story_student_file.csv</b>: This file contains the movie stories that should be used by students for model development.</li>\n",
    "    <li><b>movie_story_evaluation_file.csv</b>: This file should NOT be used for model development purposes. Students should only use this file after developing their predictive models and selecting their best final model. They then need to use their best predictive model and predict whether or not the movies in <b>movie story evaluation file.csv</b> are Comedy.</li>\n",
    "    <li><b>movies.csv</b>: This file contain the movie genres.</li>\n",
    "</ol>"
   ]
  },
  {
   "cell_type": "markdown",
   "metadata": {},
   "source": [
    "<b>Additional Note:</b> This note provides additional guideline for the project."
   ]
  },
  {
   "cell_type": "markdown",
   "metadata": {},
   "source": [
    "<b>Step 1:</b> Explore all files to become familiar with the dataset <br />\n",
    "<b>Step 2:</b> There are 20,000 movies in `movie_story_student_file.csv`file. Use the `movies.csv` file to determine whether a movie is Comedy or not. The final output of this step should be development of a dataframe file that contains three columns: 1) movieId, 2) story, 3) ComedyGenre. The value for the thirrd column should be in a binary format. If the movie is comedy the value should be 1, otherwise 0. Name the new file as `main_dataset`. <br />\n",
    "<b>Step 3:</b> If you want to just have one train and one test set, then split the `main_dataset` to train and test sets. Otherwise you can use cross validation methods.  <br />\n",
    "<b>Step 4:</b> Use your supervised learning and text analysis knowledge to develope different predictive models (i.e. logestic regression, random forest, ...). Test the performance of your models in terms of accuracy, precision, recall, and F1 scores. <br />\n",
    "<b>Step 5:</b> Choose one of your best models (only one). Then use the full data available in `main dataset` to train that model.<br />\n",
    "<b>Step 6:</b> Prepare data in `movie_story_evaluation_file.csv` for prediction. You need to perform the exact same steps that you have done in <b>Step 2</b> to prepare this new dataset. Name the new dataset as `evaluation_dataset`. <br />\n",
    "<b>Step 7:</b> Use your selected model in Step 5 to predict whether or not movies in `evaluation_dataset` are Comedy movies. <br />\n",
    "<b>Step 8:</b> Report the final accuracy, precision, recall and F1 score. <br />"
   ]
  },
  {
   "cell_type": "markdown",
   "metadata": {},
   "source": [
    "Keep in mind that the above steps are only provide guidelines. There are more detail works in this project that should be identified by students. "
   ]
  },
  {
   "cell_type": "code",
   "execution_count": 23,
   "metadata": {},
   "outputs": [],
   "source": [
    "import pandas as pd"
   ]
  },
  {
   "cell_type": "code",
   "execution_count": 24,
   "metadata": {},
   "outputs": [],
   "source": [
    "#Step 2\n",
    "story_movie_data = pd.read_csv(\"movie_story_student_file.csv\")\n",
    "genre_movie = pd.read_csv(\"movies.csv\")"
   ]
  },
  {
   "cell_type": "code",
   "execution_count": 25,
   "metadata": {},
   "outputs": [
    {
     "data": {
      "text/plain": [
       "movie_id    False\n",
       "story       False\n",
       "genres      False\n",
       "dtype: bool"
      ]
     },
     "execution_count": 25,
     "metadata": {},
     "output_type": "execute_result"
    }
   ],
   "source": [
    "merge_set = pd.merge(story_movie_data, genre_movie, left_on ='movie_id', right_on='movieId').drop('movieId', axis = 1).drop('title', axis = 1)\n",
    "merge_set.isnull().any()\n"
   ]
  },
  {
   "cell_type": "code",
   "execution_count": 26,
   "metadata": {},
   "outputs": [],
   "source": [
    "new_data = merge_set['genres'].str.contains(\"Comedy\").map({False:0,True:1})\n",
    "merge_set['ComedyGenre'] = new_data\n",
    "\n",
    "#main_dataset = merge_set.rename(columns={\"story\": \"story\", \"movieId\": \"movieId\",\"genres\":\"ComedyGenre\"})  "
   ]
  },
  {
   "cell_type": "code",
   "execution_count": 27,
   "metadata": {},
   "outputs": [],
   "source": [
    "merge_set.pop('genres')\n",
    "main_dataset = merge_set.copy()"
   ]
  },
  {
   "cell_type": "code",
   "execution_count": 28,
   "metadata": {},
   "outputs": [
    {
     "data": {
      "text/html": [
       "<div>\n",
       "<style scoped>\n",
       "    .dataframe tbody tr th:only-of-type {\n",
       "        vertical-align: middle;\n",
       "    }\n",
       "\n",
       "    .dataframe tbody tr th {\n",
       "        vertical-align: top;\n",
       "    }\n",
       "\n",
       "    .dataframe thead th {\n",
       "        text-align: right;\n",
       "    }\n",
       "</style>\n",
       "<table border=\"1\" class=\"dataframe\">\n",
       "  <thead>\n",
       "    <tr style=\"text-align: right;\">\n",
       "      <th></th>\n",
       "      <th>movie_id</th>\n",
       "      <th>story</th>\n",
       "      <th>ComedyGenre</th>\n",
       "    </tr>\n",
       "  </thead>\n",
       "  <tbody>\n",
       "    <tr>\n",
       "      <th>0</th>\n",
       "      <td>131072</td>\n",
       "      <td>A girl who always tends to fall in love with t...</td>\n",
       "      <td>1</td>\n",
       "    </tr>\n",
       "    <tr>\n",
       "      <th>1</th>\n",
       "      <td>196609</td>\n",
       "      <td>Bigfoot has come to the town of Ellwood City, ...</td>\n",
       "      <td>1</td>\n",
       "    </tr>\n",
       "    <tr>\n",
       "      <th>2</th>\n",
       "      <td>131074</td>\n",
       "      <td>At an altitude of 18,000 feet, Alaska\\'s Mount...</td>\n",
       "      <td>0</td>\n",
       "    </tr>\n",
       "    <tr>\n",
       "      <th>3</th>\n",
       "      <td>196611</td>\n",
       "      <td>In her first special since 2003, Ellen revisit...</td>\n",
       "      <td>1</td>\n",
       "    </tr>\n",
       "    <tr>\n",
       "      <th>4</th>\n",
       "      <td>196613</td>\n",
       "      <td>Mike and Sulley are back at Monsters Universit...</td>\n",
       "      <td>1</td>\n",
       "    </tr>\n",
       "    <tr>\n",
       "      <th>...</th>\n",
       "      <td>...</td>\n",
       "      <td>...</td>\n",
       "      <td>...</td>\n",
       "    </tr>\n",
       "    <tr>\n",
       "      <th>19995</th>\n",
       "      <td>56801</td>\n",
       "      <td>The iconic creatures from two of the scariest ...</td>\n",
       "      <td>0</td>\n",
       "    </tr>\n",
       "    <tr>\n",
       "      <th>19996</th>\n",
       "      <td>122337</td>\n",
       "      <td>When a bored-with-life English teacher meets a...</td>\n",
       "      <td>0</td>\n",
       "    </tr>\n",
       "    <tr>\n",
       "      <th>19997</th>\n",
       "      <td>187875</td>\n",
       "      <td>Herbert Blount is a crowdfunding contributor f...</td>\n",
       "      <td>0</td>\n",
       "    </tr>\n",
       "    <tr>\n",
       "      <th>19998</th>\n",
       "      <td>187873</td>\n",
       "      <td>REAL BOY is the coming-of-age story of Bennett...</td>\n",
       "      <td>0</td>\n",
       "    </tr>\n",
       "    <tr>\n",
       "      <th>19999</th>\n",
       "      <td>56805</td>\n",
       "      <td>Following a childhood tragedy, Dewey Cox follo...</td>\n",
       "      <td>1</td>\n",
       "    </tr>\n",
       "  </tbody>\n",
       "</table>\n",
       "<p>20000 rows × 3 columns</p>\n",
       "</div>"
      ],
      "text/plain": [
       "       movie_id                                              story  \\\n",
       "0        131072  A girl who always tends to fall in love with t...   \n",
       "1        196609  Bigfoot has come to the town of Ellwood City, ...   \n",
       "2        131074  At an altitude of 18,000 feet, Alaska\\'s Mount...   \n",
       "3        196611  In her first special since 2003, Ellen revisit...   \n",
       "4        196613  Mike and Sulley are back at Monsters Universit...   \n",
       "...         ...                                                ...   \n",
       "19995     56801  The iconic creatures from two of the scariest ...   \n",
       "19996    122337  When a bored-with-life English teacher meets a...   \n",
       "19997    187875  Herbert Blount is a crowdfunding contributor f...   \n",
       "19998    187873  REAL BOY is the coming-of-age story of Bennett...   \n",
       "19999     56805  Following a childhood tragedy, Dewey Cox follo...   \n",
       "\n",
       "       ComedyGenre  \n",
       "0                1  \n",
       "1                1  \n",
       "2                0  \n",
       "3                1  \n",
       "4                1  \n",
       "...            ...  \n",
       "19995            0  \n",
       "19996            0  \n",
       "19997            0  \n",
       "19998            0  \n",
       "19999            1  \n",
       "\n",
       "[20000 rows x 3 columns]"
      ]
     },
     "execution_count": 28,
     "metadata": {},
     "output_type": "execute_result"
    }
   ],
   "source": [
    "main_dataset"
   ]
  },
  {
   "cell_type": "code",
   "execution_count": 29,
   "metadata": {},
   "outputs": [
    {
     "data": {
      "text/plain": [
       "5266"
      ]
     },
     "execution_count": 29,
     "metadata": {},
     "output_type": "execute_result"
    }
   ],
   "source": [
    "count=[]\n",
    "c=0\n",
    "for i in range(len(main_dataset)):\n",
    "    if main_dataset.ComedyGenre[i] == 1:\n",
    "        count.append(i)\n",
    "        c=c+1\n",
    "c"
   ]
  },
  {
   "cell_type": "code",
   "execution_count": 30,
   "metadata": {},
   "outputs": [
    {
     "data": {
      "image/png": "[encoded data removed]",
      "text/plain": [
       "<Figure size 432x288 with 1 Axes>"
      ]
     },
     "metadata": {},
     "output_type": "display_data"
    }
   ],
   "source": [
    "import matplotlib.pyplot as plt\n",
    "nc = 20000-c\n",
    "vals = [c, nc]\n",
    "label = ['Comedy','Non-comedy']\n",
    "inds=range(len(vals))\n",
    "plt.pie(vals, labels= label, startangle=90, autopct='%1.1f%%') \n",
    "plt.show()"
   ]
  },
  {
   "cell_type": "code",
   "execution_count": 31,
   "metadata": {},
   "outputs": [],
   "source": [
    "main_dataset.to_csv('main_dataset.csv',index=False,)"
   ]
  },
  {
   "cell_type": "code",
   "execution_count": 32,
   "metadata": {},
   "outputs": [],
   "source": [
    "main_dataset = pd.read_csv('main_dataset.csv')"
   ]
  },
  {
   "cell_type": "code",
   "execution_count": 33,
   "metadata": {},
   "outputs": [
    {
     "data": {
      "text/plain": [
       "0    a girl who always tends to fall in love with t...\n",
       "1    bigfoot has come to the town of ellwood city, ...\n",
       "2    at an altitude of 18,000 feet, alaska\\'s mount...\n",
       "3    in her first special since 2003, ellen revisit...\n",
       "4    mike and sulley are back at monsters universit...\n",
       "Name: story, dtype: object"
      ]
     },
     "execution_count": 33,
     "metadata": {},
     "output_type": "execute_result"
    }
   ],
   "source": [
    "# Converting to lower case\n",
    "main_dataset['story'] = main_dataset['story'].apply(lambda x: \" \".join(x.lower() for x in x.split()))\n",
    "main_dataset['story'].head()"
   ]
  },
  {
   "cell_type": "code",
   "execution_count": 34,
   "metadata": {},
   "outputs": [
    {
     "data": {
      "text/plain": [
       "0    a girl who always tends to fall in love with t...\n",
       "1    bigfoot has come to the town of ellwood city p...\n",
       "2    at an altitude of 18000 feet alaskas mount st ...\n",
       "3    in her first special since 2003 ellen revisits...\n",
       "4    mike and sulley are back at monsters universit...\n",
       "Name: story, dtype: object"
      ]
     },
     "execution_count": 34,
     "metadata": {},
     "output_type": "execute_result"
    }
   ],
   "source": [
    "# Removing Special characters\n",
    "main_dataset['story'] = main_dataset['story'].str.replace('[^\\w\\s]','')\n",
    "main_dataset['story'].head()"
   ]
  },
  {
   "cell_type": "code",
   "execution_count": null,
   "metadata": {},
   "outputs": [],
   "source": [
    "import nltk\n",
    "nltk.download('stopwords')"
   ]
  },
  {
   "cell_type": "code",
   "execution_count": 35,
   "metadata": {},
   "outputs": [
    {
     "data": {
      "text/plain": [
       "0    girl always tends fall love wrong guy meets on...\n",
       "1    bigfoot come town ellwood city pa causing big ...\n",
       "2    altitude 18000 feet alaskas mount st elias des...\n",
       "3    first special since 2003 ellen revisits road s...\n",
       "4    mike sulley back monsters university funfilled...\n",
       "Name: story, dtype: object"
      ]
     },
     "execution_count": 35,
     "metadata": {},
     "output_type": "execute_result"
    }
   ],
   "source": [
    "# Removing Stop words\n",
    "\n",
    "from nltk.corpus import stopwords\n",
    "stop = stopwords.words('english')\n",
    "main_dataset['story']  = main_dataset['story'].apply(lambda x: \" \".join(x for x in x.split() if x not in stop))\n",
    "main_dataset['story'] .head()"
   ]
  },
  {
   "cell_type": "code",
   "execution_count": 36,
   "metadata": {},
   "outputs": [
    {
     "data": {
      "text/plain": [
       "0    girl alway tend fall love wrong guy meet one b...\n",
       "1    bigfoot come town ellwood citi pa caus big pro...\n",
       "2    altitud 18000 feet alaska mount st elia destin...\n",
       "3    first special sinc 2003 ellen revisit road sta...\n",
       "4    mike sulley back monster univers funfil weeken...\n",
       "Name: story, dtype: object"
      ]
     },
     "execution_count": 36,
     "metadata": {},
     "output_type": "execute_result"
    }
   ],
   "source": [
    "# Stemming\n",
    "from nltk.stem import PorterStemmer\n",
    "st = PorterStemmer()\n",
    "main_dataset['story'][:5].apply(lambda x: \" \".join([st.stem(word) for word in x.split()]))"
   ]
  },
  {
   "cell_type": "code",
   "execution_count": null,
   "metadata": {},
   "outputs": [],
   "source": [
    "pip install textblob"
   ]
  },
  {
   "cell_type": "code",
   "execution_count": 37,
   "metadata": {},
   "outputs": [
    {
     "data": {
      "text/plain": [
       "0    girl always tends fall love wrong guy meet one...\n",
       "1    bigfoot come town ellwood city pa causing big ...\n",
       "2    altitude 18000 foot alaska mount st elia desti...\n",
       "3    first special since 2003 ellen revisits road s...\n",
       "4    mike sulley back monster university funfilled ...\n",
       "Name: story, dtype: object"
      ]
     },
     "execution_count": 37,
     "metadata": {},
     "output_type": "execute_result"
    }
   ],
   "source": [
    "#lemmitizing\n",
    "from textblob import Word\n",
    "main_dataset['story'] = main_dataset['story'].apply(lambda x: \" \".join([Word(word).lemmatize() for word in x.split()]))\n",
    "main_dataset['story'].head()"
   ]
  },
  {
   "cell_type": "code",
   "execution_count": 38,
   "metadata": {},
   "outputs": [],
   "source": [
    "from sklearn.feature_extraction.text import TfidfVectorizer\n",
    "vect = TfidfVectorizer(ngram_range=(1,3), min_df = 10)\n",
    "X = vect.fit_transform(main_dataset['story'])\n",
    "df1 = pd.DataFrame(X.toarray(), columns=vect.get_feature_names())"
   ]
  },
  {
   "cell_type": "code",
   "execution_count": 51,
   "metadata": {},
   "outputs": [
    {
     "data": {
      "image/png": "[encoded data removed]",
      "text/plain": [
       "<Figure size 432x288 with 1 Axes>"
      ]
     },
     "metadata": {
      "needs_background": "light"
     },
     "output_type": "display_data"
    }
   ],
   "source": [
    "from wordcloud import WordCloud, ImageColorGenerator\n",
    "\n",
    "for i in range(len(count)):\n",
    "    wordcloud = WordCloud().generate(main_dataset.story[i])\n",
    "    plt.imshow(wordcloud, interpolation='bilinear')\n",
    "    plt.axis(\"off\");"
   ]
  },
  {
   "cell_type": "markdown",
   "metadata": {},
   "source": [
    "### Embedding"
   ]
  },
  {
   "cell_type": "code",
   "execution_count": null,
   "metadata": {},
   "outputs": [],
   "source": [
    "# text = main_dataset.story"
   ]
  },
  {
   "cell_type": "code",
   "execution_count": null,
   "metadata": {},
   "outputs": [],
   "source": [
    "# import numpy as np\n",
    "# embeddings_index = dict()\n",
    "# f = open('glove.6B.50d.txt',encoding =\"utf-8\")\n",
    "# for line in f:\n",
    "#     values = line.split()\n",
    "#     word = values[0]\n",
    "#     coefs = np.asarray(values[1:], dtype='float32')\n",
    "#     embeddings_index[word] = coefs\n",
    "# f.close()"
   ]
  },
  {
   "cell_type": "code",
   "execution_count": null,
   "metadata": {},
   "outputs": [],
   "source": [
    "# import numpy as np\n",
    "# from nltk import word_tokenize\n",
    "# from tqdm import tqdm\n",
    "# embeddings = []\n",
    "# for des in tqdm(text):\n",
    "#     des = des.encode().decode(\"utf-8\")\n",
    "#     base_embedding = np.zeros((50,))\n",
    "#     word_count = 0\n",
    "#     for token in word_tokenize(des):\n",
    "#         token = token.lower()\n",
    "#         if token in stopwords.words('english'):\n",
    "#             continue\n",
    "#         try:\n",
    "#             base_embedding += embeddings_index[token]\n",
    "#             word_count +=1\n",
    "#         except:\n",
    "#             continue\n",
    "#     base_embedding = base_embedding/word_count\n",
    "#     embeddings.append(base_embedding)"
   ]
  },
  {
   "cell_type": "code",
   "execution_count": null,
   "metadata": {},
   "outputs": [],
   "source": [
    "# embeddings"
   ]
  },
  {
   "cell_type": "code",
   "execution_count": null,
   "metadata": {},
   "outputs": [],
   "source": [
    "# X = np.array(embeddings)\n",
    "# X.shape"
   ]
  },
  {
   "cell_type": "code",
   "execution_count": null,
   "metadata": {},
   "outputs": [],
   "source": [
    "# X"
   ]
  },
  {
   "cell_type": "markdown",
   "metadata": {},
   "source": [
    "### Model building "
   ]
  },
  {
   "cell_type": "code",
   "execution_count": 48,
   "metadata": {},
   "outputs": [
    {
     "data": {
      "text/plain": [
       "78.65"
      ]
     },
     "execution_count": 48,
     "metadata": {},
     "output_type": "execute_result"
    }
   ],
   "source": [
    "from sklearn.linear_model import LogisticRegression\n",
    "from sklearn.model_selection import train_test_split\n",
    "from sklearn.metrics import accuracy_score\n",
    "model = LogisticRegression()\n",
    "X_train, X_test, y_train, y_test = train_test_split(X, main_dataset['ComedyGenre'], test_size=0.3,random_state=0)\n",
    "model.fit(X_train, y_train)\n",
    "y_test_hat = model.predict(X_test)\n",
    "round(accuracy_score(y_test,y_test_hat) * 100,2)"
   ]
  },
  {
   "cell_type": "code",
   "execution_count": 50,
   "metadata": {},
   "outputs": [
    {
     "name": "stdout",
     "output_type": "stream",
     "text": [
      "100.0\n",
      "76.98\n"
     ]
    }
   ],
   "source": [
    "from sklearn.ensemble import RandomForestClassifier\n",
    "model = RandomForestClassifier(n_estimators=1000, random_state=0)\n",
    "model.fit(X_train,y_train)\n",
    "y_train = model.predict(X_train)\n",
    "y_test_hat1 = model.predict(X_test)\n",
    "print(round(accuracy_score(y_train,y_train) * 100,2))\n",
    "print(round(accuracy_score(y_test,y_test_hat1) * 100,2))"
   ]
  },
  {
   "cell_type": "code",
   "execution_count": 52,
   "metadata": {},
   "outputs": [
    {
     "data": {
      "text/plain": [
       "74.35"
      ]
     },
     "execution_count": 52,
     "metadata": {},
     "output_type": "execute_result"
    }
   ],
   "source": [
    "from sklearn.neural_network import MLPClassifier\n",
    "model = MLPClassifier(solver='lbfgs',random_state=0, max_iter=5000, \n",
    "                      hidden_layer_sizes=[25,10])\n",
    "model.fit(X_train,y_train)\n",
    "y_test_hat2 = model.predict(X_test)\n",
    "round(accuracy_score(y_test,y_test_hat2) * 100,2)"
   ]
  },
  {
   "cell_type": "code",
   "execution_count": 53,
   "metadata": {},
   "outputs": [
    {
     "data": {
      "text/plain": [
       "77.92"
      ]
     },
     "execution_count": 53,
     "metadata": {},
     "output_type": "execute_result"
    }
   ],
   "source": [
    "from sklearn.svm import SVC\n",
    "model = SVC(kernel='rbf')\n",
    "model.fit(X_train,y_train)\n",
    "y_test_hat3 = model.predict(X_test)\n",
    "round(accuracy_score(y_test,y_test_hat3) * 100,2)"
   ]
  },
  {
   "cell_type": "code",
   "execution_count": 54,
   "metadata": {},
   "outputs": [
    {
     "name": "stdout",
     "output_type": "stream",
     "text": [
      "Best Parameter: {'max_depth': 6}\n",
      "Best Cross Validation Score: 0.7588571428571429\n"
     ]
    }
   ],
   "source": [
    "# Decision Tree\n",
    "from sklearn.tree import DecisionTreeClassifier\n",
    "from sklearn.model_selection import StratifiedKFold\n",
    "from sklearn.model_selection import GridSearchCV\n",
    "\n",
    "\n",
    "model = DecisionTreeClassifier()\n",
    "model.fit(X_train,y_train)\n",
    "\n",
    "y_train_hat = model.predict(X_train)\n",
    "y_test_hat4 = model.predict(X_test)\n",
    "\n",
    "in_sample_Accuracy = accuracy_score(y_train, y_train_hat, normalize = True ) * 100\n",
    "out_sample_Accuracy = accuracy_score(y_test, y_test_hat4, normalize=True) * 100\n",
    "\n",
    "model = DecisionTreeClassifier()\n",
    "\n",
    "param_grid = {'max_depth': [3,4,5,6,7]}\n",
    "cv = StratifiedKFold(n_splits = 5, random_state=0, shuffle=True)\n",
    "grid = GridSearchCV(model, param_grid, cv = cv, return_train_score=True, scoring='accuracy')\n",
    "grid.fit(X_train, y_train)\n",
    "\n",
    "print(\"Best Parameter: {}\".format(grid.best_params_))\n",
    "print(\"Best Cross Validation Score: {}\".format(grid.best_score_))"
   ]
  },
  {
   "cell_type": "code",
   "execution_count": 55,
   "metadata": {},
   "outputs": [
    {
     "name": "stdout",
     "output_type": "stream",
     "text": [
      "Logistic Regression\n",
      "              precision    recall  f1-score   support\n",
      "\n",
      "           0       0.79      0.96      0.87      4420\n",
      "           1       0.74      0.29      0.42      1580\n",
      "\n",
      "    accuracy                           0.79      6000\n",
      "   macro avg       0.77      0.63      0.64      6000\n",
      "weighted avg       0.78      0.79      0.75      6000\n",
      "\n",
      "Random Forest\n",
      "              precision    recall  f1-score   support\n",
      "\n",
      "           0       0.77      0.98      0.86      4420\n",
      "           1       0.74      0.19      0.31      1580\n",
      "\n",
      "    accuracy                           0.77      6000\n",
      "   macro avg       0.76      0.58      0.58      6000\n",
      "weighted avg       0.76      0.77      0.72      6000\n",
      "\n",
      "Support Vector machine\n",
      "              precision    recall  f1-score   support\n",
      "\n",
      "           0       0.78      0.98      0.87      4420\n",
      "           1       0.78      0.23      0.35      1580\n",
      "\n",
      "    accuracy                           0.78      6000\n",
      "   macro avg       0.78      0.60      0.61      6000\n",
      "weighted avg       0.78      0.78      0.73      6000\n",
      "\n",
      "MLPClassifier\n",
      "              precision    recall  f1-score   support\n",
      "\n",
      "           0       0.82      0.84      0.83      4420\n",
      "           1       0.51      0.48      0.50      1580\n",
      "\n",
      "    accuracy                           0.74      6000\n",
      "   macro avg       0.67      0.66      0.66      6000\n",
      "weighted avg       0.74      0.74      0.74      6000\n",
      "\n",
      "Decision Tree\n",
      "              precision    recall  f1-score   support\n",
      "\n",
      "           0       0.78      0.80      0.79      4420\n",
      "           1       0.41      0.38      0.39      1580\n",
      "\n",
      "    accuracy                           0.69      6000\n",
      "   macro avg       0.59      0.59      0.59      6000\n",
      "weighted avg       0.68      0.69      0.69      6000\n",
      "\n"
     ]
    }
   ],
   "source": [
    "from sklearn.metrics import classification_report\n",
    "\n",
    "print('Logistic Regression')\n",
    "print(classification_report(y_test,y_test_hat))\n",
    "print('Random Forest')\n",
    "print(classification_report(y_test,y_test_hat1))\n",
    "print('Support Vector machine')\n",
    "print(classification_report(y_test,y_test_hat3))\n",
    "print('MLPClassifier')\n",
    "print(classification_report(y_test,y_test_hat2))\n",
    "print('Decision Tree')\n",
    "print(classification_report(y_test,y_test_hat4))\n"
   ]
  },
  {
   "cell_type": "markdown",
   "metadata": {},
   "source": [
    "### Model Selection : "
   ]
  },
  {
   "cell_type": "code",
   "execution_count": 56,
   "metadata": {},
   "outputs": [
    {
     "data": {
      "text/plain": [
       "LogisticRegression(max_iter=300)"
      ]
     },
     "execution_count": 56,
     "metadata": {},
     "output_type": "execute_result"
    }
   ],
   "source": [
    "#Running Logistic Regression on entire dataset\n",
    "model = LogisticRegression(max_iter=300)\n",
    "X_train = X\n",
    "y_train = main_dataset['ComedyGenre']\n",
    "model.fit(X_train, y_train)"
   ]
  },
  {
   "cell_type": "markdown",
   "metadata": {},
   "source": [
    "### Working on evaluation data"
   ]
  },
  {
   "cell_type": "code",
   "execution_count": 83,
   "metadata": {},
   "outputs": [
    {
     "data": {
      "text/plain": [
       "movie_id    False\n",
       "story       False\n",
       "genres      False\n",
       "dtype: bool"
      ]
     },
     "execution_count": 83,
     "metadata": {},
     "output_type": "execute_result"
    }
   ],
   "source": [
    "story_movie_eval_data = pd.read_csv(\"movie_story_evaluation_file.csv\")\n",
    "merge_set_2 = pd.merge(story_movie_eval_data, genre_movie, left_on ='movie_id', right_on='movieId').drop('movieId', axis = 1).drop('title', axis = 1)\n",
    "merge_set_2.isnull().any()"
   ]
  },
  {
   "cell_type": "code",
   "execution_count": 84,
   "metadata": {},
   "outputs": [
    {
     "data": {
      "text/html": [
       "<div>\n",
       "<style scoped>\n",
       "    .dataframe tbody tr th:only-of-type {\n",
       "        vertical-align: middle;\n",
       "    }\n",
       "\n",
       "    .dataframe tbody tr th {\n",
       "        vertical-align: top;\n",
       "    }\n",
       "\n",
       "    .dataframe thead th {\n",
       "        text-align: right;\n",
       "    }\n",
       "</style>\n",
       "<table border=\"1\" class=\"dataframe\">\n",
       "  <thead>\n",
       "    <tr style=\"text-align: right;\">\n",
       "      <th></th>\n",
       "      <th>movie_id</th>\n",
       "      <th>story</th>\n",
       "      <th>genres</th>\n",
       "    </tr>\n",
       "  </thead>\n",
       "  <tbody>\n",
       "    <tr>\n",
       "      <th>0</th>\n",
       "      <td>122349</td>\n",
       "      <td>Growing up in the Mission district of San Fran...</td>\n",
       "      <td>Drama</td>\n",
       "    </tr>\n",
       "    <tr>\n",
       "      <th>1</th>\n",
       "      <td>122351</td>\n",
       "      <td>A soldier returns home from the Iraq war only ...</td>\n",
       "      <td>Horror|Thriller</td>\n",
       "    </tr>\n",
       "    <tr>\n",
       "      <th>2</th>\n",
       "      <td>122361</td>\n",
       "      <td>Marco the Monkey works as a beach officer. But...</td>\n",
       "      <td>Animation|Children|Comedy</td>\n",
       "    </tr>\n",
       "    <tr>\n",
       "      <th>3</th>\n",
       "      <td>187901</td>\n",
       "      <td>When an honest cop, Vijay Kumar\\'s family is r...</td>\n",
       "      <td>Action|Romance</td>\n",
       "    </tr>\n",
       "    <tr>\n",
       "      <th>4</th>\n",
       "      <td>187903</td>\n",
       "      <td>Kathiresan aka Kaththi, a criminal, escapes fr...</td>\n",
       "      <td>Action|Drama|Romance</td>\n",
       "    </tr>\n",
       "    <tr>\n",
       "      <th>...</th>\n",
       "      <td>...</td>\n",
       "      <td>...</td>\n",
       "      <td>...</td>\n",
       "    </tr>\n",
       "    <tr>\n",
       "      <th>3493</th>\n",
       "      <td>131062</td>\n",
       "      <td>In the middle of nowhere, 20 years after an ap...</td>\n",
       "      <td>Drama|Fantasy|Sci-Fi</td>\n",
       "    </tr>\n",
       "    <tr>\n",
       "      <th>3494</th>\n",
       "      <td>131064</td>\n",
       "      <td>After living for years as a struggling artist ...</td>\n",
       "      <td>Comedy</td>\n",
       "    </tr>\n",
       "    <tr>\n",
       "      <th>3495</th>\n",
       "      <td>131066</td>\n",
       "      <td>Ronal is a young barbarian with low self-estee...</td>\n",
       "      <td>Adventure|Animation|Fantasy</td>\n",
       "    </tr>\n",
       "    <tr>\n",
       "      <th>3496</th>\n",
       "      <td>131068</td>\n",
       "      <td>Ziege, H\\xc3\\xa4schen and Max have now moved t...</td>\n",
       "      <td>Comedy</td>\n",
       "    </tr>\n",
       "    <tr>\n",
       "      <th>3497</th>\n",
       "      <td>131070</td>\n",
       "      <td>During their childhood, Hanna and Clarissa wer...</td>\n",
       "      <td>Drama|Mystery|Thriller</td>\n",
       "    </tr>\n",
       "  </tbody>\n",
       "</table>\n",
       "<p>3498 rows × 3 columns</p>\n",
       "</div>"
      ],
      "text/plain": [
       "      movie_id                                              story  \\\n",
       "0       122349  Growing up in the Mission district of San Fran...   \n",
       "1       122351  A soldier returns home from the Iraq war only ...   \n",
       "2       122361  Marco the Monkey works as a beach officer. But...   \n",
       "3       187901  When an honest cop, Vijay Kumar\\'s family is r...   \n",
       "4       187903  Kathiresan aka Kaththi, a criminal, escapes fr...   \n",
       "...        ...                                                ...   \n",
       "3493    131062  In the middle of nowhere, 20 years after an ap...   \n",
       "3494    131064  After living for years as a struggling artist ...   \n",
       "3495    131066  Ronal is a young barbarian with low self-estee...   \n",
       "3496    131068  Ziege, H\\xc3\\xa4schen and Max have now moved t...   \n",
       "3497    131070  During their childhood, Hanna and Clarissa wer...   \n",
       "\n",
       "                           genres  \n",
       "0                           Drama  \n",
       "1                 Horror|Thriller  \n",
       "2       Animation|Children|Comedy  \n",
       "3                  Action|Romance  \n",
       "4            Action|Drama|Romance  \n",
       "...                           ...  \n",
       "3493         Drama|Fantasy|Sci-Fi  \n",
       "3494                       Comedy  \n",
       "3495  Adventure|Animation|Fantasy  \n",
       "3496                       Comedy  \n",
       "3497       Drama|Mystery|Thriller  \n",
       "\n",
       "[3498 rows x 3 columns]"
      ]
     },
     "execution_count": 84,
     "metadata": {},
     "output_type": "execute_result"
    }
   ],
   "source": [
    "merge_set_2"
   ]
  },
  {
   "cell_type": "code",
   "execution_count": 85,
   "metadata": {},
   "outputs": [],
   "source": [
    "new_data_2 = merge_set_2['genres'].str.contains(\"Comedy\").map({False:0,True:1})\n",
    "merge_set_2['ComedyGenre'] = new_data_2"
   ]
  },
  {
   "cell_type": "code",
   "execution_count": 86,
   "metadata": {},
   "outputs": [],
   "source": [
    "merge_set_2.pop('genres')\n",
    "evaluation_dataset = merge_set_2.copy()"
   ]
  },
  {
   "cell_type": "code",
   "execution_count": 87,
   "metadata": {},
   "outputs": [],
   "source": [
    "evaluation_dataset.to_csv('evaluation_dataset.csv',index=False,)"
   ]
  },
  {
   "cell_type": "code",
   "execution_count": 88,
   "metadata": {},
   "outputs": [],
   "source": [
    "evaluation_dataset = pd.read_csv('evaluation_dataset.csv')"
   ]
  },
  {
   "cell_type": "code",
   "execution_count": 90,
   "metadata": {},
   "outputs": [
    {
     "data": {
      "text/html": [
       "<div>\n",
       "<style scoped>\n",
       "    .dataframe tbody tr th:only-of-type {\n",
       "        vertical-align: middle;\n",
       "    }\n",
       "\n",
       "    .dataframe tbody tr th {\n",
       "        vertical-align: top;\n",
       "    }\n",
       "\n",
       "    .dataframe thead th {\n",
       "        text-align: right;\n",
       "    }\n",
       "</style>\n",
       "<table border=\"1\" class=\"dataframe\">\n",
       "  <thead>\n",
       "    <tr style=\"text-align: right;\">\n",
       "      <th></th>\n",
       "      <th>movie_id</th>\n",
       "      <th>story</th>\n",
       "      <th>ComedyGenre</th>\n",
       "    </tr>\n",
       "  </thead>\n",
       "  <tbody>\n",
       "    <tr>\n",
       "      <th>0</th>\n",
       "      <td>122349</td>\n",
       "      <td>Growing up in the Mission district of San Fran...</td>\n",
       "      <td>0</td>\n",
       "    </tr>\n",
       "    <tr>\n",
       "      <th>1</th>\n",
       "      <td>122351</td>\n",
       "      <td>A soldier returns home from the Iraq war only ...</td>\n",
       "      <td>0</td>\n",
       "    </tr>\n",
       "    <tr>\n",
       "      <th>2</th>\n",
       "      <td>122361</td>\n",
       "      <td>Marco the Monkey works as a beach officer. But...</td>\n",
       "      <td>1</td>\n",
       "    </tr>\n",
       "    <tr>\n",
       "      <th>3</th>\n",
       "      <td>187901</td>\n",
       "      <td>When an honest cop, Vijay Kumar\\'s family is r...</td>\n",
       "      <td>0</td>\n",
       "    </tr>\n",
       "    <tr>\n",
       "      <th>4</th>\n",
       "      <td>187903</td>\n",
       "      <td>Kathiresan aka Kaththi, a criminal, escapes fr...</td>\n",
       "      <td>0</td>\n",
       "    </tr>\n",
       "    <tr>\n",
       "      <th>...</th>\n",
       "      <td>...</td>\n",
       "      <td>...</td>\n",
       "      <td>...</td>\n",
       "    </tr>\n",
       "    <tr>\n",
       "      <th>3493</th>\n",
       "      <td>131062</td>\n",
       "      <td>In the middle of nowhere, 20 years after an ap...</td>\n",
       "      <td>0</td>\n",
       "    </tr>\n",
       "    <tr>\n",
       "      <th>3494</th>\n",
       "      <td>131064</td>\n",
       "      <td>After living for years as a struggling artist ...</td>\n",
       "      <td>1</td>\n",
       "    </tr>\n",
       "    <tr>\n",
       "      <th>3495</th>\n",
       "      <td>131066</td>\n",
       "      <td>Ronal is a young barbarian with low self-estee...</td>\n",
       "      <td>0</td>\n",
       "    </tr>\n",
       "    <tr>\n",
       "      <th>3496</th>\n",
       "      <td>131068</td>\n",
       "      <td>Ziege, H\\xc3\\xa4schen and Max have now moved t...</td>\n",
       "      <td>1</td>\n",
       "    </tr>\n",
       "    <tr>\n",
       "      <th>3497</th>\n",
       "      <td>131070</td>\n",
       "      <td>During their childhood, Hanna and Clarissa wer...</td>\n",
       "      <td>0</td>\n",
       "    </tr>\n",
       "  </tbody>\n",
       "</table>\n",
       "<p>3498 rows × 3 columns</p>\n",
       "</div>"
      ],
      "text/plain": [
       "      movie_id                                              story  ComedyGenre\n",
       "0       122349  Growing up in the Mission district of San Fran...            0\n",
       "1       122351  A soldier returns home from the Iraq war only ...            0\n",
       "2       122361  Marco the Monkey works as a beach officer. But...            1\n",
       "3       187901  When an honest cop, Vijay Kumar\\'s family is r...            0\n",
       "4       187903  Kathiresan aka Kaththi, a criminal, escapes fr...            0\n",
       "...        ...                                                ...          ...\n",
       "3493    131062  In the middle of nowhere, 20 years after an ap...            0\n",
       "3494    131064  After living for years as a struggling artist ...            1\n",
       "3495    131066  Ronal is a young barbarian with low self-estee...            0\n",
       "3496    131068  Ziege, H\\xc3\\xa4schen and Max have now moved t...            1\n",
       "3497    131070  During their childhood, Hanna and Clarissa wer...            0\n",
       "\n",
       "[3498 rows x 3 columns]"
      ]
     },
     "execution_count": 90,
     "metadata": {},
     "output_type": "execute_result"
    }
   ],
   "source": [
    "evaluation_dataset"
   ]
  },
  {
   "cell_type": "code",
   "execution_count": 91,
   "metadata": {},
   "outputs": [
    {
     "data": {
      "text/plain": [
       "0    growing up in the mission district of san fran...\n",
       "1    a soldier returns home from the iraq war only ...\n",
       "2    marco the monkey works as a beach officer. but...\n",
       "3    when an honest cop, vijay kumar\\'s family is r...\n",
       "4    kathiresan aka kaththi, a criminal, escapes fr...\n",
       "Name: story, dtype: object"
      ]
     },
     "execution_count": 91,
     "metadata": {},
     "output_type": "execute_result"
    }
   ],
   "source": [
    "# Converting to lower case\n",
    "evaluation_dataset['story'] = evaluation_dataset['story'].apply(lambda x: \" \".join(x.lower() for x in x.split()))\n",
    "evaluation_dataset['story'].head()"
   ]
  },
  {
   "cell_type": "code",
   "execution_count": 92,
   "metadata": {},
   "outputs": [
    {
     "data": {
      "text/plain": [
       "0    growing up in the mission district of san fran...\n",
       "1    a soldier returns home from the iraq war only ...\n",
       "2    marco the monkey works as a beach officer but ...\n",
       "3    when an honest cop vijay kumars family is ruth...\n",
       "4    kathiresan aka kaththi a criminal escapes from...\n",
       "Name: story, dtype: object"
      ]
     },
     "execution_count": 92,
     "metadata": {},
     "output_type": "execute_result"
    }
   ],
   "source": [
    "# Removing Special characters\n",
    "\n",
    "evaluation_dataset['story'] = evaluation_dataset['story'].str.replace('[^\\w\\s]','')\n",
    "evaluation_dataset['story'].head()"
   ]
  },
  {
   "cell_type": "code",
   "execution_count": 93,
   "metadata": {},
   "outputs": [
    {
     "data": {
      "text/plain": [
       "0    growing mission district san francisco che riv...\n",
       "1    soldier returns home iraq war haunted visions ...\n",
       "2    marco monkey works beach officer spends time t...\n",
       "3    honest cop vijay kumars family ruthlessly slau...\n",
       "4    kathiresan aka kaththi criminal escapes kolkat...\n",
       "Name: story, dtype: object"
      ]
     },
     "execution_count": 93,
     "metadata": {},
     "output_type": "execute_result"
    }
   ],
   "source": [
    "# Removing Stop words\n",
    "from nltk.corpus import stopwords\n",
    "stop = stopwords.words('english')\n",
    "evaluation_dataset['story']  = evaluation_dataset['story'] .apply(lambda x: \" \".join(x for x in x.split() if x not in stop))\n",
    "evaluation_dataset['story'] .head()"
   ]
  },
  {
   "cell_type": "code",
   "execution_count": 94,
   "metadata": {},
   "outputs": [
    {
     "data": {
      "text/plain": [
       "0    grow mission district san francisco che rivera...\n",
       "1       soldier return home iraq war haunt vision dead\n",
       "2    marco monkey work beach offic spend time tri w...\n",
       "3    honest cop vijay kumar famili ruthlessli slaug...\n",
       "4    kathiresan aka kaththi crimin escap kolkata pr...\n",
       "Name: story, dtype: object"
      ]
     },
     "execution_count": 94,
     "metadata": {},
     "output_type": "execute_result"
    }
   ],
   "source": [
    "# Stemming\n",
    "from nltk.stem import PorterStemmer\n",
    "st = PorterStemmer()\n",
    "evaluation_dataset['story'][:5].apply(lambda x: \" \".join([st.stem(word) for word in x.split()]))"
   ]
  },
  {
   "cell_type": "code",
   "execution_count": 104,
   "metadata": {},
   "outputs": [
    {
     "data": {
      "text/plain": [
       "'marco monkey work beach officer spends time trying win heart beautiful lulu succeed marcos rival carlo build gigantic monkeyshaped casino right marcos beach lulu fascinated charming carlo jealously marco start undercover investigation carlos strange casino soon discovers truth carlo take island force lulu marry marco try arrest carlo problem rise literally ground carlos casino giant robot'"
      ]
     },
     "execution_count": 104,
     "metadata": {},
     "output_type": "execute_result"
    }
   ],
   "source": [
    "#Lemmitizing\n",
    "from textblob import Word\n",
    "evaluation_dataset['story'] =evaluation_dataset['story'].apply(lambda x: \" \".join([Word(word).lemmatize() for word in x.split()]))\n",
    "x = evaluation_dataset['story']\n",
    "x[2]"
   ]
  },
  {
   "cell_type": "code",
   "execution_count": 96,
   "metadata": {},
   "outputs": [
    {
     "data": {
      "text/html": [
       "<div>\n",
       "<style scoped>\n",
       "    .dataframe tbody tr th:only-of-type {\n",
       "        vertical-align: middle;\n",
       "    }\n",
       "\n",
       "    .dataframe tbody tr th {\n",
       "        vertical-align: top;\n",
       "    }\n",
       "\n",
       "    .dataframe thead th {\n",
       "        text-align: right;\n",
       "    }\n",
       "</style>\n",
       "<table border=\"1\" class=\"dataframe\">\n",
       "  <thead>\n",
       "    <tr style=\"text-align: right;\">\n",
       "      <th></th>\n",
       "      <th>10</th>\n",
       "      <th>10 year</th>\n",
       "      <th>12</th>\n",
       "      <th>12yearold</th>\n",
       "      <th>14</th>\n",
       "      <th>15</th>\n",
       "      <th>18</th>\n",
       "      <th>1950s</th>\n",
       "      <th>1960s</th>\n",
       "      <th>1970s</th>\n",
       "      <th>...</th>\n",
       "      <th>young</th>\n",
       "      <th>young boy</th>\n",
       "      <th>young couple</th>\n",
       "      <th>young girl</th>\n",
       "      <th>young man</th>\n",
       "      <th>young men</th>\n",
       "      <th>young woman</th>\n",
       "      <th>younger</th>\n",
       "      <th>youth</th>\n",
       "      <th>zombie</th>\n",
       "    </tr>\n",
       "  </thead>\n",
       "  <tbody>\n",
       "    <tr>\n",
       "      <th>0</th>\n",
       "      <td>0.0</td>\n",
       "      <td>0.0</td>\n",
       "      <td>0.0</td>\n",
       "      <td>0.0</td>\n",
       "      <td>0.0</td>\n",
       "      <td>0.0</td>\n",
       "      <td>0.0</td>\n",
       "      <td>0.0</td>\n",
       "      <td>0.0</td>\n",
       "      <td>0.0</td>\n",
       "      <td>...</td>\n",
       "      <td>0.000000</td>\n",
       "      <td>0.0</td>\n",
       "      <td>0.0</td>\n",
       "      <td>0.0</td>\n",
       "      <td>0.0</td>\n",
       "      <td>0.0</td>\n",
       "      <td>0.0</td>\n",
       "      <td>0.0</td>\n",
       "      <td>0.0</td>\n",
       "      <td>0.0</td>\n",
       "    </tr>\n",
       "    <tr>\n",
       "      <th>1</th>\n",
       "      <td>0.0</td>\n",
       "      <td>0.0</td>\n",
       "      <td>0.0</td>\n",
       "      <td>0.0</td>\n",
       "      <td>0.0</td>\n",
       "      <td>0.0</td>\n",
       "      <td>0.0</td>\n",
       "      <td>0.0</td>\n",
       "      <td>0.0</td>\n",
       "      <td>0.0</td>\n",
       "      <td>...</td>\n",
       "      <td>0.000000</td>\n",
       "      <td>0.0</td>\n",
       "      <td>0.0</td>\n",
       "      <td>0.0</td>\n",
       "      <td>0.0</td>\n",
       "      <td>0.0</td>\n",
       "      <td>0.0</td>\n",
       "      <td>0.0</td>\n",
       "      <td>0.0</td>\n",
       "      <td>0.0</td>\n",
       "    </tr>\n",
       "    <tr>\n",
       "      <th>2</th>\n",
       "      <td>0.0</td>\n",
       "      <td>0.0</td>\n",
       "      <td>0.0</td>\n",
       "      <td>0.0</td>\n",
       "      <td>0.0</td>\n",
       "      <td>0.0</td>\n",
       "      <td>0.0</td>\n",
       "      <td>0.0</td>\n",
       "      <td>0.0</td>\n",
       "      <td>0.0</td>\n",
       "      <td>...</td>\n",
       "      <td>0.000000</td>\n",
       "      <td>0.0</td>\n",
       "      <td>0.0</td>\n",
       "      <td>0.0</td>\n",
       "      <td>0.0</td>\n",
       "      <td>0.0</td>\n",
       "      <td>0.0</td>\n",
       "      <td>0.0</td>\n",
       "      <td>0.0</td>\n",
       "      <td>0.0</td>\n",
       "    </tr>\n",
       "    <tr>\n",
       "      <th>3</th>\n",
       "      <td>0.0</td>\n",
       "      <td>0.0</td>\n",
       "      <td>0.0</td>\n",
       "      <td>0.0</td>\n",
       "      <td>0.0</td>\n",
       "      <td>0.0</td>\n",
       "      <td>0.0</td>\n",
       "      <td>0.0</td>\n",
       "      <td>0.0</td>\n",
       "      <td>0.0</td>\n",
       "      <td>...</td>\n",
       "      <td>0.000000</td>\n",
       "      <td>0.0</td>\n",
       "      <td>0.0</td>\n",
       "      <td>0.0</td>\n",
       "      <td>0.0</td>\n",
       "      <td>0.0</td>\n",
       "      <td>0.0</td>\n",
       "      <td>0.0</td>\n",
       "      <td>0.0</td>\n",
       "      <td>0.0</td>\n",
       "    </tr>\n",
       "    <tr>\n",
       "      <th>4</th>\n",
       "      <td>0.0</td>\n",
       "      <td>0.0</td>\n",
       "      <td>0.0</td>\n",
       "      <td>0.0</td>\n",
       "      <td>0.0</td>\n",
       "      <td>0.0</td>\n",
       "      <td>0.0</td>\n",
       "      <td>0.0</td>\n",
       "      <td>0.0</td>\n",
       "      <td>0.0</td>\n",
       "      <td>...</td>\n",
       "      <td>0.000000</td>\n",
       "      <td>0.0</td>\n",
       "      <td>0.0</td>\n",
       "      <td>0.0</td>\n",
       "      <td>0.0</td>\n",
       "      <td>0.0</td>\n",
       "      <td>0.0</td>\n",
       "      <td>0.0</td>\n",
       "      <td>0.0</td>\n",
       "      <td>0.0</td>\n",
       "    </tr>\n",
       "    <tr>\n",
       "      <th>...</th>\n",
       "      <td>...</td>\n",
       "      <td>...</td>\n",
       "      <td>...</td>\n",
       "      <td>...</td>\n",
       "      <td>...</td>\n",
       "      <td>...</td>\n",
       "      <td>...</td>\n",
       "      <td>...</td>\n",
       "      <td>...</td>\n",
       "      <td>...</td>\n",
       "      <td>...</td>\n",
       "      <td>...</td>\n",
       "      <td>...</td>\n",
       "      <td>...</td>\n",
       "      <td>...</td>\n",
       "      <td>...</td>\n",
       "      <td>...</td>\n",
       "      <td>...</td>\n",
       "      <td>...</td>\n",
       "      <td>...</td>\n",
       "      <td>...</td>\n",
       "    </tr>\n",
       "    <tr>\n",
       "      <th>3493</th>\n",
       "      <td>0.0</td>\n",
       "      <td>0.0</td>\n",
       "      <td>0.0</td>\n",
       "      <td>0.0</td>\n",
       "      <td>0.0</td>\n",
       "      <td>0.0</td>\n",
       "      <td>0.0</td>\n",
       "      <td>0.0</td>\n",
       "      <td>0.0</td>\n",
       "      <td>0.0</td>\n",
       "      <td>...</td>\n",
       "      <td>0.000000</td>\n",
       "      <td>0.0</td>\n",
       "      <td>0.0</td>\n",
       "      <td>0.0</td>\n",
       "      <td>0.0</td>\n",
       "      <td>0.0</td>\n",
       "      <td>0.0</td>\n",
       "      <td>0.0</td>\n",
       "      <td>0.0</td>\n",
       "      <td>0.0</td>\n",
       "    </tr>\n",
       "    <tr>\n",
       "      <th>3494</th>\n",
       "      <td>0.0</td>\n",
       "      <td>0.0</td>\n",
       "      <td>0.0</td>\n",
       "      <td>0.0</td>\n",
       "      <td>0.0</td>\n",
       "      <td>0.0</td>\n",
       "      <td>0.0</td>\n",
       "      <td>0.0</td>\n",
       "      <td>0.0</td>\n",
       "      <td>0.0</td>\n",
       "      <td>...</td>\n",
       "      <td>0.000000</td>\n",
       "      <td>0.0</td>\n",
       "      <td>0.0</td>\n",
       "      <td>0.0</td>\n",
       "      <td>0.0</td>\n",
       "      <td>0.0</td>\n",
       "      <td>0.0</td>\n",
       "      <td>0.0</td>\n",
       "      <td>0.0</td>\n",
       "      <td>0.0</td>\n",
       "    </tr>\n",
       "    <tr>\n",
       "      <th>3495</th>\n",
       "      <td>0.0</td>\n",
       "      <td>0.0</td>\n",
       "      <td>0.0</td>\n",
       "      <td>0.0</td>\n",
       "      <td>0.0</td>\n",
       "      <td>0.0</td>\n",
       "      <td>0.0</td>\n",
       "      <td>0.0</td>\n",
       "      <td>0.0</td>\n",
       "      <td>0.0</td>\n",
       "      <td>...</td>\n",
       "      <td>0.092597</td>\n",
       "      <td>0.0</td>\n",
       "      <td>0.0</td>\n",
       "      <td>0.0</td>\n",
       "      <td>0.0</td>\n",
       "      <td>0.0</td>\n",
       "      <td>0.0</td>\n",
       "      <td>0.0</td>\n",
       "      <td>0.0</td>\n",
       "      <td>0.0</td>\n",
       "    </tr>\n",
       "    <tr>\n",
       "      <th>3496</th>\n",
       "      <td>0.0</td>\n",
       "      <td>0.0</td>\n",
       "      <td>0.0</td>\n",
       "      <td>0.0</td>\n",
       "      <td>0.0</td>\n",
       "      <td>0.0</td>\n",
       "      <td>0.0</td>\n",
       "      <td>0.0</td>\n",
       "      <td>0.0</td>\n",
       "      <td>0.0</td>\n",
       "      <td>...</td>\n",
       "      <td>0.000000</td>\n",
       "      <td>0.0</td>\n",
       "      <td>0.0</td>\n",
       "      <td>0.0</td>\n",
       "      <td>0.0</td>\n",
       "      <td>0.0</td>\n",
       "      <td>0.0</td>\n",
       "      <td>0.0</td>\n",
       "      <td>0.0</td>\n",
       "      <td>0.0</td>\n",
       "    </tr>\n",
       "    <tr>\n",
       "      <th>3497</th>\n",
       "      <td>0.0</td>\n",
       "      <td>0.0</td>\n",
       "      <td>0.0</td>\n",
       "      <td>0.0</td>\n",
       "      <td>0.0</td>\n",
       "      <td>0.0</td>\n",
       "      <td>0.0</td>\n",
       "      <td>0.0</td>\n",
       "      <td>0.0</td>\n",
       "      <td>0.0</td>\n",
       "      <td>...</td>\n",
       "      <td>0.000000</td>\n",
       "      <td>0.0</td>\n",
       "      <td>0.0</td>\n",
       "      <td>0.0</td>\n",
       "      <td>0.0</td>\n",
       "      <td>0.0</td>\n",
       "      <td>0.0</td>\n",
       "      <td>0.0</td>\n",
       "      <td>0.0</td>\n",
       "      <td>0.0</td>\n",
       "    </tr>\n",
       "  </tbody>\n",
       "</table>\n",
       "<p>3498 rows × 1944 columns</p>\n",
       "</div>"
      ],
      "text/plain": [
       "       10  10 year   12  12yearold   14   15   18  1950s  1960s  1970s  ...  \\\n",
       "0     0.0      0.0  0.0        0.0  0.0  0.0  0.0    0.0    0.0    0.0  ...   \n",
       "1     0.0      0.0  0.0        0.0  0.0  0.0  0.0    0.0    0.0    0.0  ...   \n",
       "2     0.0      0.0  0.0        0.0  0.0  0.0  0.0    0.0    0.0    0.0  ...   \n",
       "3     0.0      0.0  0.0        0.0  0.0  0.0  0.0    0.0    0.0    0.0  ...   \n",
       "4     0.0      0.0  0.0        0.0  0.0  0.0  0.0    0.0    0.0    0.0  ...   \n",
       "...   ...      ...  ...        ...  ...  ...  ...    ...    ...    ...  ...   \n",
       "3493  0.0      0.0  0.0        0.0  0.0  0.0  0.0    0.0    0.0    0.0  ...   \n",
       "3494  0.0      0.0  0.0        0.0  0.0  0.0  0.0    0.0    0.0    0.0  ...   \n",
       "3495  0.0      0.0  0.0        0.0  0.0  0.0  0.0    0.0    0.0    0.0  ...   \n",
       "3496  0.0      0.0  0.0        0.0  0.0  0.0  0.0    0.0    0.0    0.0  ...   \n",
       "3497  0.0      0.0  0.0        0.0  0.0  0.0  0.0    0.0    0.0    0.0  ...   \n",
       "\n",
       "         young  young boy  young couple  young girl  young man  young men  \\\n",
       "0     0.000000        0.0           0.0         0.0        0.0        0.0   \n",
       "1     0.000000        0.0           0.0         0.0        0.0        0.0   \n",
       "2     0.000000        0.0           0.0         0.0        0.0        0.0   \n",
       "3     0.000000        0.0           0.0         0.0        0.0        0.0   \n",
       "4     0.000000        0.0           0.0         0.0        0.0        0.0   \n",
       "...        ...        ...           ...         ...        ...        ...   \n",
       "3493  0.000000        0.0           0.0         0.0        0.0        0.0   \n",
       "3494  0.000000        0.0           0.0         0.0        0.0        0.0   \n",
       "3495  0.092597        0.0           0.0         0.0        0.0        0.0   \n",
       "3496  0.000000        0.0           0.0         0.0        0.0        0.0   \n",
       "3497  0.000000        0.0           0.0         0.0        0.0        0.0   \n",
       "\n",
       "      young woman  younger  youth  zombie  \n",
       "0             0.0      0.0    0.0     0.0  \n",
       "1             0.0      0.0    0.0     0.0  \n",
       "2             0.0      0.0    0.0     0.0  \n",
       "3             0.0      0.0    0.0     0.0  \n",
       "4             0.0      0.0    0.0     0.0  \n",
       "...           ...      ...    ...     ...  \n",
       "3493          0.0      0.0    0.0     0.0  \n",
       "3494          0.0      0.0    0.0     0.0  \n",
       "3495          0.0      0.0    0.0     0.0  \n",
       "3496          0.0      0.0    0.0     0.0  \n",
       "3497          0.0      0.0    0.0     0.0  \n",
       "\n",
       "[3498 rows x 1944 columns]"
      ]
     },
     "execution_count": 96,
     "metadata": {},
     "output_type": "execute_result"
    }
   ],
   "source": [
    "# Applying TfidVectorizer \n",
    "\n",
    "from sklearn.feature_extraction.text import TfidfVectorizer\n",
    "vect = TfidfVectorizer(ngram_range=(1,3),min_df = 10)\n",
    "X = vect.fit_transform(evaluation_dataset['story'])\n",
    "pd.DataFrame(X.toarray(), columns=vect.get_feature_names())"
   ]
  },
  {
   "cell_type": "code",
   "execution_count": 97,
   "metadata": {},
   "outputs": [
    {
     "data": {
      "text/plain": [
       "875"
      ]
     },
     "execution_count": 97,
     "metadata": {},
     "output_type": "execute_result"
    }
   ],
   "source": [
    "count_eval=[]\n",
    "b=0\n",
    "for i in range(len(evaluation_dataset)):\n",
    "    if evaluation_dataset.ComedyGenre[i] == 1:\n",
    "        count_eval.append(i)\n",
    "        b=b+1\n",
    "b"
   ]
  },
  {
   "cell_type": "code",
   "execution_count": 98,
   "metadata": {},
   "outputs": [
    {
     "data": {
      "image/png": "[encoded data removed]",
      "text/plain": [
       "<Figure size 432x288 with 1 Axes>"
      ]
     },
     "metadata": {
      "needs_background": "light"
     },
     "output_type": "display_data"
    }
   ],
   "source": [
    "for i in range(len(count_eval)):\n",
    "    wordcloud = WordCloud().generate(evaluation_dataset.story[i])\n",
    "    plt.imshow(wordcloud, interpolation='bilinear')\n",
    "    plt.axis(\"off\");"
   ]
  },
  {
   "cell_type": "code",
   "execution_count": 99,
   "metadata": {},
   "outputs": [
    {
     "data": {
      "text/plain": [
       "78.0"
      ]
     },
     "execution_count": 99,
     "metadata": {},
     "output_type": "execute_result"
    }
   ],
   "source": [
    "model = LogisticRegression(max_iter=300)\n",
    "X_train, X_test, y_train, y_test = train_test_split(X, evaluation_dataset['ComedyGenre'], test_size=0.3,random_state=0)\n",
    "model.fit(X_train, y_train)\n",
    "y_test_hat = model.predict(X_test)\n",
    "round(accuracy_score(y_test,y_test_hat) * 100,2)"
   ]
  },
  {
   "cell_type": "code",
   "execution_count": 100,
   "metadata": {},
   "outputs": [
    {
     "data": {
      "text/plain": [
       "<1050x1944 sparse matrix of type '<class 'numpy.float64'>'\n",
       "\twith 19391 stored elements in Compressed Sparse Row format>"
      ]
     },
     "execution_count": 100,
     "metadata": {},
     "output_type": "execute_result"
    }
   ],
   "source": [
    "X_test"
   ]
  },
  {
   "cell_type": "code",
   "execution_count": 101,
   "metadata": {},
   "outputs": [
    {
     "name": "stdout",
     "output_type": "stream",
     "text": [
      "Confusion Matrix\n",
      "[[788   5]\n",
      " [226  31]]\n"
     ]
    }
   ],
   "source": [
    "from sklearn.metrics import confusion_matrix\n",
    "print(\"Confusion Matrix\")\n",
    "cf_matrix = confusion_matrix(y_test,y_test_hat)\n",
    "print(cf_matrix)"
   ]
  },
  {
   "cell_type": "code",
   "execution_count": 102,
   "metadata": {},
   "outputs": [
    {
     "name": "stdout",
     "output_type": "stream",
     "text": [
      "Logistic Regression\n",
      "              precision    recall  f1-score   support\n",
      "\n",
      "           0       0.78      0.99      0.87       793\n",
      "           1       0.86      0.12      0.21       257\n",
      "\n",
      "    accuracy                           0.78      1050\n",
      "   macro avg       0.82      0.56      0.54      1050\n",
      "weighted avg       0.80      0.78      0.71      1050\n",
      "\n"
     ]
    }
   ],
   "source": [
    "from sklearn.metrics import classification_report\n",
    "print('Logistic Regression')\n",
    "print(classification_report(y_test,y_test_hat))"
   ]
  },
  {
   "cell_type": "markdown",
   "metadata": {},
   "source": [
    "<b>Extra Credit</b> The group with the best prediction model is going to get extra points."
   ]
  },
  {
   "cell_type": "markdown",
   "metadata": {},
   "source": [
    "### Output"
   ]
  },
  {
   "cell_type": "markdown",
   "metadata": {},
   "source": [
    "<ul>\n",
    "    <li>Make sure to put descriptive comments on your code</li>\n",
    "    <li>Use the markdown cell format in Jupiter to add your own interpretation to the result in each section.</li>\n",
    "    <li>Make sure to keep the output of your runs when you want to save the final version of the file.</li>\n",
    "    <li>The final submited file should be very well structured and should have a consistent flow of analysis.</li>\n",
    "    <li>You may want to use an additional word document to report the result of your analysis</li>\n",
    "</ul>"
   ]
  },
  {
   "cell_type": "markdown",
   "metadata": {},
   "source": [
    "#### Due Date: Dec 6 2021 at 6:59 PM"
   ]
  },
  {
   "cell_type": "markdown",
   "metadata": {},
   "source": [
    "<table style=\"width:400px;height:200px;border:1px black solid; background-color:white\">\n",
    "    <tr style=\"background-color:white\">\n",
    "        <th style=\"text-align:left;border:1px black solid\">Comprehensiveness</th>\n",
    "        <td style=\"text-align:center;border:1px black solid\"><b>30%</b></td>\n",
    "    </tr>\n",
    "    <tr style=\"background-color:white\">\n",
    "        <th style=\"text-align:left;border:1px black solid\">Correctness</th>\n",
    "        <td style=\"text-align:center;border:1px black solid\"><b>30%</b></td>\n",
    "    </tr>\n",
    "    <tr style=\"background-color:white\">\n",
    "        <th style=\"text-align:left;border:1px black solid\">Complete Report</th>\n",
    "        <td style=\"text-align:center;border:1px black solid\"><b>20%</b></td>\n",
    "    </tr>\n",
    "    <tr style=\"background-color:white\">\n",
    "        <th style=\"text-align:left;border:1px black solid\">Clear Code</th>\n",
    "        <td style=\"text-align:center;border:1px black solid\"><b>20%</b></td>\n",
    "    </tr>\n",
    "    <tr style=\"background-color:white\">\n",
    "        <th style=\"text-align:center;border:1px black solid;color:red\"><u>Total</u></th>\n",
    "        <td style=\"text-align:center;border:1px black solid;color:red\"><b stlyle=\"color:red\">100%</b></td>\n",
    "    </tr>\n",
    "</table>"
   ]
  }
 ],
 "metadata": {
  "kernelspec": {
   "display_name": "Python 3",
   "language": "python",
   "name": "python3"
  },
  "language_info": {
   "codemirror_mode": {
    "name": "ipython",
    "version": 3
   },
   "file_extension": ".py",
   "mimetype": "text/x-python",
   "name": "python",
   "nbconvert_exporter": "python",
   "pygments_lexer": "ipython3",
   "version": "3.8.5"
  }
 },
 "nbformat": 4,
 "nbformat_minor": 4
}
